{
 "cells": [
  {
   "cell_type": "code",
   "execution_count": 120,
   "metadata": {
    "collapsed": false
   },
   "outputs": [],
   "source": [
    "import pandas as pd\n",
    "import numpy as np\n",
    "import matplotlib.pyplot as plt\n",
    "from nltk.sentiment.vader import SentimentIntensityAnalyzer\n",
    "%matplotlib inline"
   ]
  },
  {
   "cell_type": "code",
   "execution_count": 121,
   "metadata": {
    "collapsed": true
   },
   "outputs": [],
   "source": [
    "import seaborn as sns\n",
    "import re\n",
    "import random\n",
    "plt.style.use('ggplot')"
   ]
  },
  {
   "cell_type": "code",
   "execution_count": 122,
   "metadata": {
    "collapsed": false
   },
   "outputs": [],
   "source": [
    "from bs4 import BeautifulSoup\n",
    "from nltk.corpus import stopwords\n",
    "from nltk.stem.porter import PorterStemmer\n",
    "from nltk.stem.snowball import SnowballStemmer\n",
    "english_stemmer=SnowballStemmer('english')"
   ]
  },
  {
   "cell_type": "code",
   "execution_count": 123,
   "metadata": {
    "collapsed": true
   },
   "outputs": [],
   "source": [
    "from sklearn.model_selection import train_test_split\n",
    "from sklearn.feature_extraction.text import TfidfVectorizer\n",
    "from sklearn.feature_selection.univariate_selection import SelectKBest, chi2, f_classif\n",
    "from sklearn.linear_model import SGDClassifier, SGDRegressor\n",
    "from sklearn.ensemble import RandomForestClassifier, GradientBoostingClassifier\n",
    "from sklearn.naive_bayes import MultinomialNB\n",
    "from sklearn.metrics import accuracy_score, classification_report, confusion_matrix"
   ]
  },
  {
   "cell_type": "code",
   "execution_count": 124,
   "metadata": {
    "collapsed": false
   },
   "outputs": [],
   "source": [
    "# Pick randomly 20000 reviews\n",
    "\n",
    "n = 413000  \n",
    "s = 20000 \n",
    "skip = sorted(random.sample(range(1,n),n-s))\n",
    "\n",
    "#df = pd.read_csv(\"Amazon_Unlocked_Mobile.csv\", skiprows=skip)\n",
    "df = pd.read_csv(\"Amazon_Unlocked_Mobile.csv\")"
   ]
  },
  {
   "cell_type": "code",
   "execution_count": 125,
   "metadata": {
    "collapsed": false
   },
   "outputs": [
    {
     "data": {
      "text/plain": [
       "(413840, 6)"
      ]
     },
     "execution_count": 125,
     "metadata": {},
     "output_type": "execute_result"
    }
   ],
   "source": [
    "df.shape"
   ]
  },
  {
   "cell_type": "code",
   "execution_count": 126,
   "metadata": {
    "collapsed": false
   },
   "outputs": [
    {
     "data": {
      "text/html": [
       "<div>\n",
       "<table border=\"1\" class=\"dataframe\">\n",
       "  <thead>\n",
       "    <tr style=\"text-align: right;\">\n",
       "      <th></th>\n",
       "      <th>Product Name</th>\n",
       "      <th>Brand Name</th>\n",
       "      <th>Price</th>\n",
       "      <th>Rating</th>\n",
       "      <th>Reviews</th>\n",
       "      <th>Review Votes</th>\n",
       "    </tr>\n",
       "  </thead>\n",
       "  <tbody>\n",
       "    <tr>\n",
       "      <th>0</th>\n",
       "      <td>\"CLEAR CLEAN ESN\" Sprint EPIC 4G Galaxy SPH-D7...</td>\n",
       "      <td>Samsung</td>\n",
       "      <td>199.99</td>\n",
       "      <td>5</td>\n",
       "      <td>I feel so LUCKY to have found this used (phone...</td>\n",
       "      <td>1.0</td>\n",
       "    </tr>\n",
       "    <tr>\n",
       "      <th>1</th>\n",
       "      <td>\"CLEAR CLEAN ESN\" Sprint EPIC 4G Galaxy SPH-D7...</td>\n",
       "      <td>Samsung</td>\n",
       "      <td>199.99</td>\n",
       "      <td>4</td>\n",
       "      <td>nice phone, nice up grade from my pantach revu...</td>\n",
       "      <td>0.0</td>\n",
       "    </tr>\n",
       "    <tr>\n",
       "      <th>2</th>\n",
       "      <td>\"CLEAR CLEAN ESN\" Sprint EPIC 4G Galaxy SPH-D7...</td>\n",
       "      <td>Samsung</td>\n",
       "      <td>199.99</td>\n",
       "      <td>5</td>\n",
       "      <td>Very pleased</td>\n",
       "      <td>0.0</td>\n",
       "    </tr>\n",
       "    <tr>\n",
       "      <th>3</th>\n",
       "      <td>\"CLEAR CLEAN ESN\" Sprint EPIC 4G Galaxy SPH-D7...</td>\n",
       "      <td>Samsung</td>\n",
       "      <td>199.99</td>\n",
       "      <td>4</td>\n",
       "      <td>It works good but it goes slow sometimes but i...</td>\n",
       "      <td>0.0</td>\n",
       "    </tr>\n",
       "    <tr>\n",
       "      <th>4</th>\n",
       "      <td>\"CLEAR CLEAN ESN\" Sprint EPIC 4G Galaxy SPH-D7...</td>\n",
       "      <td>Samsung</td>\n",
       "      <td>199.99</td>\n",
       "      <td>4</td>\n",
       "      <td>Great phone to replace my lost phone. The only...</td>\n",
       "      <td>0.0</td>\n",
       "    </tr>\n",
       "  </tbody>\n",
       "</table>\n",
       "</div>"
      ],
      "text/plain": [
       "                                        Product Name Brand Name   Price  \\\n",
       "0  \"CLEAR CLEAN ESN\" Sprint EPIC 4G Galaxy SPH-D7...    Samsung  199.99   \n",
       "1  \"CLEAR CLEAN ESN\" Sprint EPIC 4G Galaxy SPH-D7...    Samsung  199.99   \n",
       "2  \"CLEAR CLEAN ESN\" Sprint EPIC 4G Galaxy SPH-D7...    Samsung  199.99   \n",
       "3  \"CLEAR CLEAN ESN\" Sprint EPIC 4G Galaxy SPH-D7...    Samsung  199.99   \n",
       "4  \"CLEAR CLEAN ESN\" Sprint EPIC 4G Galaxy SPH-D7...    Samsung  199.99   \n",
       "\n",
       "   Rating                                            Reviews  Review Votes  \n",
       "0       5  I feel so LUCKY to have found this used (phone...           1.0  \n",
       "1       4  nice phone, nice up grade from my pantach revu...           0.0  \n",
       "2       5                                       Very pleased           0.0  \n",
       "3       4  It works good but it goes slow sometimes but i...           0.0  \n",
       "4       4  Great phone to replace my lost phone. The only...           0.0  "
      ]
     },
     "execution_count": 126,
     "metadata": {},
     "output_type": "execute_result"
    }
   ],
   "source": [
    "df.head()"
   ]
  },
  {
   "cell_type": "code",
   "execution_count": 127,
   "metadata": {
    "collapsed": false
   },
   "outputs": [],
   "source": [
    "data= df[['Reviews','Rating']]"
   ]
  },
  {
   "cell_type": "code",
   "execution_count": 128,
   "metadata": {
    "collapsed": false
   },
   "outputs": [
    {
     "data": {
      "text/plain": [
       "Reviews     True\n",
       "Rating     False\n",
       "dtype: bool"
      ]
     },
     "execution_count": 128,
     "metadata": {},
     "output_type": "execute_result"
    }
   ],
   "source": [
    "data.isnull().any()"
   ]
  },
  {
   "cell_type": "code",
   "execution_count": 129,
   "metadata": {
    "collapsed": false
   },
   "outputs": [
    {
     "data": {
      "text/plain": [
       "62"
      ]
     },
     "execution_count": 129,
     "metadata": {},
     "output_type": "execute_result"
    }
   ],
   "source": [
    "data.isnull().values.sum()"
   ]
  },
  {
   "cell_type": "code",
   "execution_count": 130,
   "metadata": {
    "collapsed": true
   },
   "outputs": [],
   "source": [
    "data = data[data['Reviews'].isnull()==False]"
   ]
  },
  {
   "cell_type": "code",
   "execution_count": 131,
   "metadata": {
    "collapsed": false
   },
   "outputs": [
    {
     "data": {
      "text/plain": [
       "(413778, 2)"
      ]
     },
     "execution_count": 131,
     "metadata": {},
     "output_type": "execute_result"
    }
   ],
   "source": [
    "#df=df.dropna()\n",
    "data.shape"
   ]
  },
  {
   "cell_type": "code",
   "execution_count": 132,
   "metadata": {
    "collapsed": false
   },
   "outputs": [
    {
     "data": {
      "text/plain": [
       "<matplotlib.axes._subplots.AxesSubplot at 0x1244d04e0>"
      ]
     },
     "execution_count": 132,
     "metadata": {},
     "output_type": "execute_result"
    },
    {
     "data": {
      "image/png": "[encoded data removed]",
      "text/plain": [
       "<matplotlib.figure.Figure at 0x114bea400>"
      ]
     },
     "metadata": {},
     "output_type": "display_data"
    }
   ],
   "source": [
    "sns.countplot(data['Rating'])"
   ]
  },
  {
   "cell_type": "code",
   "execution_count": 133,
   "metadata": {
    "collapsed": false
   },
   "outputs": [
    {
     "name": "stdout",
     "output_type": "stream",
     "text": [
      "Reviews    223580\n",
      "Rating     223580\n",
      "dtype: int64\n",
      "Reviews    190198\n",
      "Rating     190198\n",
      "dtype: int64\n"
     ]
    }
   ],
   "source": [
    "print (data[data['Rating']==5].count())\n",
    "print (data[data['Rating']<5].count())"
   ]
  },
  {
   "cell_type": "code",
   "execution_count": 134,
   "metadata": {
    "collapsed": false
   },
   "outputs": [
    {
     "data": {
      "text/plain": [
       "\"I feel so LUCKY to have found this used (phone to us & not used hard at all), phone on line from someone who upgraded and sold this one. My Son liked his old one that finally fell apart after 2.5+ years and didn't want an upgrade!! Thank you Seller, we really appreciate it & your honesty re: said used phone.I recommend this seller very highly & would but from them again!!\""
      ]
     },
     "execution_count": 134,
     "metadata": {},
     "output_type": "execute_result"
    }
   ],
   "source": [
    "data.Reviews[0]"
   ]
  },
  {
   "cell_type": "code",
   "execution_count": 135,
   "metadata": {
    "collapsed": false
   },
   "outputs": [
    {
     "name": "stdout",
     "output_type": "stream",
     "text": [
      "I feel so LUCKY to have found this used (phone to us & not used hard at all), phone on line from someone who upgraded and sold this one. My Son liked his old one that finally fell apart after 2.5+ years and didn't want an upgrade!! Thank you Seller, we really appreciate it & your honesty re: said used phone.I recommend this seller very highly & would but from them again!!\n"
     ]
    },
    {
     "name": "stderr",
     "output_type": "stream",
     "text": [
      "/Users/rajegupt/anaconda3/lib/python3.6/site-packages/bs4/__init__.py:181: UserWarning: No parser was explicitly specified, so I'm using the best available HTML parser for this system (\"lxml\"). This usually isn't a problem, but if you run this code on another system, or in a different virtual environment, it may use a different parser and behave differently.\n",
      "\n",
      "The code that caused this warning is on line 193 of the file /Users/rajegupt/anaconda3/lib/python3.6/runpy.py. To get rid of this warning, change code that looks like this:\n",
      "\n",
      " BeautifulSoup([your markup])\n",
      "\n",
      "to this:\n",
      "\n",
      " BeautifulSoup([your markup], \"lxml\")\n",
      "\n",
      "  markup_type=markup_type))\n"
     ]
    }
   ],
   "source": [
    "# Remove HTML\n",
    "review_text= BeautifulSoup(data.Reviews[0]).get_text()\n",
    "print (review_text)"
   ]
  },
  {
   "cell_type": "code",
   "execution_count": 136,
   "metadata": {
    "collapsed": false
   },
   "outputs": [
    {
     "name": "stdout",
     "output_type": "stream",
     "text": [
      "I feel so LUCKY to have found this used  phone to us   not used hard at all   phone on line from someone who upgraded and sold this one  My Son liked his old one that finally fell apart after      years and didn t want an upgrade   Thank you Seller  we really appreciate it   your honesty re  said used phone I recommend this seller very highly   would but from them again  \n"
     ]
    }
   ],
   "source": [
    "# 2. Remove non-letters\n",
    "review_text = re.sub(\"[^a-zA-Z]\",\" \", review_text)\n",
    "print (review_text)"
   ]
  },
  {
   "cell_type": "code",
   "execution_count": 137,
   "metadata": {
    "collapsed": false
   },
   "outputs": [
    {
     "name": "stdout",
     "output_type": "stream",
     "text": [
      "['i', 'feel', 'so', 'lucky', 'to', 'have', 'found', 'this', 'used', 'phone', 'to', 'us', 'not', 'used', 'hard', 'at', 'all', 'phone', 'on', 'line', 'from', 'someone', 'who', 'upgraded', 'and', 'sold', 'this', 'one', 'my', 'son', 'liked', 'his', 'old', 'one', 'that', 'finally', 'fell', 'apart', 'after', 'years', 'and', 'didn', 't', 'want', 'an', 'upgrade', 'thank', 'you', 'seller', 'we', 'really', 'appreciate', 'it', 'your', 'honesty', 're', 'said', 'used', 'phone', 'i', 'recommend', 'this', 'seller', 'very', 'highly', 'would', 'but', 'from', 'them', 'again']\n"
     ]
    }
   ],
   "source": [
    "# 3. Convert words to lower case and split them\n",
    "words = review_text.lower().split()\n",
    "print (words)"
   ]
  },
  {
   "cell_type": "code",
   "execution_count": 138,
   "metadata": {
    "collapsed": false
   },
   "outputs": [
    {
     "name": "stdout",
     "output_type": "stream",
     "text": [
      "{'didn', 'i', 'while', 's', 'your', 'd', 'weren', 'yourself', 'very', 'myself', 'me', 'whom', 'o', 'theirs', 'when', 'with', 'that', 'down', 'themselves', 'not', 're', 'who', 'up', 'other', 'its', 'so', 'y', 'too', 'just', 'further', 'do', 'own', 'the', 'aren', 'or', 'doesn', 'wasn', 'herself', 'itself', 'hadn', 'should', 'of', 'both', 'hers', 'off', 'ourselves', 'him', 'through', 'in', 'ain', 'having', 'to', 'where', 'only', 'by', 'himself', 'no', 'below', 'mightn', 'against', 'under', 'about', 'why', 'which', 'this', 'on', 'them', 'same', 'are', 'into', 'does', 've', 'won', 'm', 'were', 'most', 'from', 'and', 'those', 'nor', 'they', 'because', 'more', 'll', 'some', 'once', 'yourselves', 'such', 'it', 'wouldn', 'being', 'couldn', 'been', 't', 'we', 'after', 'again', 'am', 'she', 'shan', 'my', 'isn', 'over', 'as', 'don', 'doing', 'had', 'than', 'how', 'before', 'yours', 'her', 'but', 'for', 'an', 'was', 'hasn', 'few', 'each', 'our', 'can', 'there', 'during', 'out', 'these', 'be', 'a', 'his', 'here', 'is', 'shouldn', 'between', 'he', 'now', 'ma', 'then', 'has', 'will', 'have', 'did', 'what', 'ours', 'at', 'mustn', 'their', 'above', 'haven', 'any', 'if', 'all', 'needn', 'until', 'you'}\n",
      " \n",
      "words after removing stopwords\n",
      "\n",
      "['feel', 'lucky', 'found', 'used', 'phone', 'us', 'used', 'hard', 'phone', 'line', 'someone', 'upgraded', 'sold', 'one', 'son', 'liked', 'old', 'one', 'finally', 'fell', 'apart', 'years', 'want', 'upgrade', 'thank', 'seller', 'really', 'appreciate', 'honesty', 'said', 'used', 'phone', 'recommend', 'seller', 'highly', 'would']\n"
     ]
    }
   ],
   "source": [
    "# 4. Remove Stopwords\n",
    "stops = set(stopwords.words(\"english\"))\n",
    "words = [w for w in words if not w in stops]\n",
    "\n",
    "print (stops)\n",
    "print (\" \\nwords after removing stopwords\\n\")\n",
    "print (words)"
   ]
  },
  {
   "cell_type": "code",
   "execution_count": 139,
   "metadata": {
    "collapsed": false
   },
   "outputs": [
    {
     "name": "stdout",
     "output_type": "stream",
     "text": [
      "['feel', 'lucki', 'found', 'use', 'phone', 'us', 'use', 'hard', 'phone', 'line', 'someon', 'upgrad', 'sold', 'one', 'son', 'like', 'old', 'one', 'final', 'fell', 'apart', 'year', 'want', 'upgrad', 'thank', 'seller', 'realli', 'appreci', 'honesti', 'said', 'use', 'phone', 'recommend', 'seller', 'high', 'would']\n"
     ]
    }
   ],
   "source": [
    "# 5. Stem the words\n",
    "\n",
    "stemmer = english_stemmer\n",
    "b=[]\n",
    "for word in words:\n",
    "    b.append(stemmer.stem(word))\n",
    "print (b)"
   ]
  },
  {
   "cell_type": "code",
   "execution_count": 140,
   "metadata": {
    "collapsed": true
   },
   "outputs": [],
   "source": [
    "# Write all the steps in one function now\n",
    "\n",
    "def review_to_wordlist( review, remove_stopwords=True):\n",
    "    # Function to convert a document to a sequence of words,\n",
    "    # optionally removing stop words.  Returns a list of words.\n",
    "    #\n",
    "    # 1. Remove HTML\n",
    "    review_text = BeautifulSoup(review).get_text()\n",
    "\n",
    "    #\n",
    "    # 2. Remove non-letters\n",
    "    review_text = re.sub(\"[^a-zA-Z]\",\" \", review_text)\n",
    "    #\n",
    "    # 3. Convert words to lower case and split them\n",
    "    words = review_text.lower().split()\n",
    "    #\n",
    "    # 4. Optionally remove stop words (True by default)\n",
    "    if remove_stopwords:\n",
    "        stops = set(stopwords.words(\"english\"))\n",
    "        words = [w for w in words if not w in stops]\n",
    "\n",
    "    b=[]\n",
    "    stemmer = english_stemmer #PorterStemmer()\n",
    "    for word in words:\n",
    "        b.append(stemmer.stem(word))\n",
    "\n",
    "    # 5. Return a list of words\n",
    "    return(b)"
   ]
  },
  {
   "cell_type": "code",
   "execution_count": 141,
   "metadata": {
    "collapsed": true
   },
   "outputs": [],
   "source": [
    "train, test = train_test_split(data, test_size = 0.3)"
   ]
  },
  {
   "cell_type": "code",
   "execution_count": 142,
   "metadata": {
    "collapsed": false
   },
   "outputs": [
    {
     "name": "stderr",
     "output_type": "stream",
     "text": [
      "/Users/rajegupt/anaconda3/lib/python3.6/site-packages/bs4/__init__.py:181: UserWarning: No parser was explicitly specified, so I'm using the best available HTML parser for this system (\"lxml\"). This usually isn't a problem, but if you run this code on another system, or in a different virtual environment, it may use a different parser and behave differently.\n",
      "\n",
      "The code that caused this warning is on line 193 of the file /Users/rajegupt/anaconda3/lib/python3.6/runpy.py. To get rid of this warning, change code that looks like this:\n",
      "\n",
      " BeautifulSoup([your markup])\n",
      "\n",
      "to this:\n",
      "\n",
      " BeautifulSoup([your markup], \"lxml\")\n",
      "\n",
      "  markup_type=markup_type))\n",
      "/Users/rajegupt/anaconda3/lib/python3.6/site-packages/bs4/__init__.py:282: UserWarning: \"http://www.amazon.com/gp/product/B0193D539M?redirect=true&ref_=cm_cr_ryp_prd_ttl_sol_0\" looks like a URL. Beautiful Soup is not an HTTP client. You should probably use an HTTP client like requests to get the document behind the URL, and feed that document to Beautiful Soup.\n",
      "  ' that document to Beautiful Soup.' % decoded_markup\n",
      "/Users/rajegupt/anaconda3/lib/python3.6/site-packages/bs4/__init__.py:282: UserWarning: \"http://www.amazon.com/gp/product/B013YDFH3Y?redirect=true&ref_=cm_cr_ryp_prd_ttl_sol_0\" looks like a URL. Beautiful Soup is not an HTTP client. You should probably use an HTTP client like requests to get the document behind the URL, and feed that document to Beautiful Soup.\n",
      "  ' that document to Beautiful Soup.' % decoded_markup\n",
      "/Users/rajegupt/anaconda3/lib/python3.6/site-packages/bs4/__init__.py:282: UserWarning: \"https://www.amazon.com/dp/B01BO6BYMQ/ref=cm_cr_ryp_prd_ttl_sol_1\" looks like a URL. Beautiful Soup is not an HTTP client. You should probably use an HTTP client like requests to get the document behind the URL, and feed that document to Beautiful Soup.\n",
      "  ' that document to Beautiful Soup.' % decoded_markup\n",
      "/Users/rajegupt/anaconda3/lib/python3.6/site-packages/bs4/__init__.py:282: UserWarning: \"https://smile.amazon.com/gp/product/B00VTTB5C8/ref=cm_cr_ryp_prd_ttl_sol_1\" looks like a URL. Beautiful Soup is not an HTTP client. You should probably use an HTTP client like requests to get the document behind the URL, and feed that document to Beautiful Soup.\n",
      "  ' that document to Beautiful Soup.' % decoded_markup\n",
      "/Users/rajegupt/anaconda3/lib/python3.6/site-packages/bs4/__init__.py:282: UserWarning: \"https://www.amazon.com/dp/B00K15KRV6/ref=cm_cr_ryp_prd_ttl_sol_22\" looks like a URL. Beautiful Soup is not an HTTP client. You should probably use an HTTP client like requests to get the document behind the URL, and feed that document to Beautiful Soup.\n",
      "  ' that document to Beautiful Soup.' % decoded_markup\n",
      "/Users/rajegupt/anaconda3/lib/python3.6/site-packages/bs4/__init__.py:282: UserWarning: \"https://www.amazon.com/dp/B00YD547Q6/ref=cm_cr_ryp_prd_ttl_sol_0\" looks like a URL. Beautiful Soup is not an HTTP client. You should probably use an HTTP client like requests to get the document behind the URL, and feed that document to Beautiful Soup.\n",
      "  ' that document to Beautiful Soup.' % decoded_markup\n",
      "/Users/rajegupt/anaconda3/lib/python3.6/site-packages/bs4/__init__.py:282: UserWarning: \"https://www.amazon.com/dp/B00QF5QJR2/ref=cm_cr_ryp_prd_ttl_sol_0\" looks like a URL. Beautiful Soup is not an HTTP client. You should probably use an HTTP client like requests to get the document behind the URL, and feed that document to Beautiful Soup.\n",
      "  ' that document to Beautiful Soup.' % decoded_markup\n",
      "/Users/rajegupt/anaconda3/lib/python3.6/site-packages/bs4/__init__.py:282: UserWarning: \"https://www.amazon.com/Sony-Xperia-C5-Ultra-Unlocked/dp/B016AM1S2A/ref=cm_cr_arp_d_product_top?ie=UTF8\" looks like a URL. Beautiful Soup is not an HTTP client. You should probably use an HTTP client like requests to get the document behind the URL, and feed that document to Beautiful Soup.\n",
      "  ' that document to Beautiful Soup.' % decoded_markup\n",
      "/Users/rajegupt/anaconda3/lib/python3.6/site-packages/bs4/__init__.py:282: UserWarning: \"http://adskpak.com/?type=2&id=darf85&sid=11449\" looks like a URL. Beautiful Soup is not an HTTP client. You should probably use an HTTP client like requests to get the document behind the URL, and feed that document to Beautiful Soup.\n",
      "  ' that document to Beautiful Soup.' % decoded_markup\n",
      "/Users/rajegupt/anaconda3/lib/python3.6/site-packages/bs4/__init__.py:282: UserWarning: \"https://www.amazon.com/dp/B01CJU9BBM/ref=cm_cr_ryp_prd_ttl_sol_0\" looks like a URL. Beautiful Soup is not an HTTP client. You should probably use an HTTP client like requests to get the document behind the URL, and feed that document to Beautiful Soup.\n",
      "  ' that document to Beautiful Soup.' % decoded_markup\n",
      "/Users/rajegupt/anaconda3/lib/python3.6/site-packages/bs4/__init__.py:282: UserWarning: \"https://www.amazon.com/gp/product/B00U8KSNB0/ref=cm_cr_ryp_prd_ttl_sol_22\" looks like a URL. Beautiful Soup is not an HTTP client. You should probably use an HTTP client like requests to get the document behind the URL, and feed that document to Beautiful Soup.\n",
      "  ' that document to Beautiful Soup.' % decoded_markup\n",
      "/Users/rajegupt/anaconda3/lib/python3.6/site-packages/bs4/__init__.py:282: UserWarning: \"http://www.amazon.com/gp/product/B00PEJQU9M?redirect=true&ref_=cm_cr_ryp_prd_ttl_sol_0\" looks like a URL. Beautiful Soup is not an HTTP client. You should probably use an HTTP client like requests to get the document behind the URL, and feed that document to Beautiful Soup.\n",
      "  ' that document to Beautiful Soup.' % decoded_markup\n",
      "/Users/rajegupt/anaconda3/lib/python3.6/site-packages/bs4/__init__.py:282: UserWarning: \"https://www.amazon.com/gp/product/B00JEMZYM4/ref=cm_cr_ryp_prd_ttl_sol_0\" looks like a URL. Beautiful Soup is not an HTTP client. You should probably use an HTTP client like requests to get the document behind the URL, and feed that document to Beautiful Soup.\n",
      "  ' that document to Beautiful Soup.' % decoded_markup\n",
      "/Users/rajegupt/anaconda3/lib/python3.6/site-packages/bs4/__init__.py:282: UserWarning: \"https://www.amazon.com/gp/product/B00JFNDLRC/ref=cm_cr_ryp_prd_ttl_sol_0\" looks like a URL. Beautiful Soup is not an HTTP client. You should probably use an HTTP client like requests to get the document behind the URL, and feed that document to Beautiful Soup.\n",
      "  ' that document to Beautiful Soup.' % decoded_markup\n",
      "/Users/rajegupt/anaconda3/lib/python3.6/site-packages/bs4/__init__.py:282: UserWarning: \"https://www.amazon.com/gp/product/B00G197Q4M/ref=cm_cr_ryp_prd_ttl_sol_26\" looks like a URL. Beautiful Soup is not an HTTP client. You should probably use an HTTP client like requests to get the document behind the URL, and feed that document to Beautiful Soup.\n",
      "  ' that document to Beautiful Soup.' % decoded_markup\n",
      "/Users/rajegupt/anaconda3/lib/python3.6/site-packages/bs4/__init__.py:282: UserWarning: \"http://www.amazon.com/gp/product/B00OSTKZWM?redirect=true&ref_=cm_cr_ryp_prd_ttl_sol_1\" looks like a URL. Beautiful Soup is not an HTTP client. You should probably use an HTTP client like requests to get the document behind the URL, and feed that document to Beautiful Soup.\n",
      "  ' that document to Beautiful Soup.' % decoded_markup\n",
      "/Users/rajegupt/anaconda3/lib/python3.6/site-packages/bs4/__init__.py:282: UserWarning: \"http://www.amazon.com/gp/product/B00EZHM9JE?redirect=true&ref_=cm_cr_ryp_prd_ttl_sol_0\" looks like a URL. Beautiful Soup is not an HTTP client. You should probably use an HTTP client like requests to get the document behind the URL, and feed that document to Beautiful Soup.\n",
      "  ' that document to Beautiful Soup.' % decoded_markup\n"
     ]
    }
   ],
   "source": [
    "# Clean all the reviews\n",
    "\n",
    "clean_train_reviews = []\n",
    "for review in train['Reviews']:\n",
    "    clean_train_reviews.append( \" \".join(review_to_wordlist(review)))\n",
    "    \n",
    "clean_test_reviews = []\n",
    "for review in test['Reviews']:\n",
    "    clean_test_reviews.append( \" \".join(review_to_wordlist(review)))"
   ]
  },
  {
   "cell_type": "code",
   "execution_count": 143,
   "metadata": {
    "collapsed": false
   },
   "outputs": [
    {
     "data": {
      "text/plain": [
       "['good',\n",
       " 'screen small screen resolut bad therefor believ item cheaper',\n",
       " 'reciv item good condit seem extens usag button thank',\n",
       " 'great phone price keep mind lot everyth thing realli negat hold charg even hrs get hot',\n",
       " 'unlock dual sim smartphon chslingmodel z size color blackbeen use z unlock smartphon week happi far phone well made display x hd simpl featur home screen theme yet look good custom homescreen whatev like ad remov app homescreen easi chang wallpap choic also add widget shortcut phone come hard june box clear case charger usb manual screen protector earphon also come note remov backsid yellow film batteri charg cours use touch phone seem shini smooth fit perfect hand pocket slim light carri shape phone june z camera mp rear camera mp front cam realli like back camera phone snap realli clear pictur special outsid closer object tri take pictur flower garden pretti neat love outcom pictur tri upload shot also focus flash low light front camera decent enough take good selfi complain mp choos beauti camera mode find top side camera adjust set make perfect good thing take pictur take video connect wifi fast brows internet smooth fast oper system surpris fast super love fast use phone brows watch video youtub phone faster compar phone download app use problem never freez lag use app brows internet social media play game download app call text husband friend use phone call sound clear receiv msgs time also tri call friend use facebook messeng voic sound good base storag phone gb add slot memori card hard beat gb enough memori download app want enough storag pictur video insert memori card sim card last bottom batteri life mah realli good last longer previous phone use work day still batteri life back home batteri life make happi also turn smart wake set enabl like smartphon unlock phone use anywher sim card slot avail comparison june z simpl featur nice great rear camera attach pictur taken use phone happi fast os longer batteri life gb phone storag june gold theme app nice front camera selfi fast os batteri life ok better power bank gb phone storagejun cool featur love iphon app theme front rear camera ok good os batteri life ok bring power bank use much phone storag gboveral pleas perform phone encount problem yet far good definit updat notic someth els phone provid test honest review everyth write base experienc use phone hope review help']"
      ]
     },
     "execution_count": 143,
     "metadata": {},
     "output_type": "execute_result"
    }
   ],
   "source": [
    "clean_train_reviews[0:5]"
   ]
  },
  {
   "cell_type": "markdown",
   "metadata": {
    "collapsed": true
   },
   "source": [
    "## TFidf Transformation"
   ]
  },
  {
   "cell_type": "code",
   "execution_count": 144,
   "metadata": {
    "collapsed": false
   },
   "outputs": [],
   "source": [
    "# use tfidf transformation with ngrams between 1 and 4.\n",
    "vectorizer = TfidfVectorizer(min_df=2, max_df=0.95, max_features=200000,\n",
    "                             ngram_range=(1,4), sublinear_tf=True)\n",
    "\n",
    "vectorizer= vectorizer.fit(clean_train_reviews)\n",
    "train_features= vectorizer.transform(clean_train_reviews)\n",
    "test_features= vectorizer.transform(clean_test_reviews)"
   ]
  },
  {
   "cell_type": "code",
   "execution_count": 145,
   "metadata": {
    "collapsed": false
   },
   "outputs": [
    {
     "name": "stdout",
     "output_type": "stream",
     "text": [
      "289644\n",
      "(289644, 200000)\n",
      "['good']\n"
     ]
    }
   ],
   "source": [
    "print (len(clean_train_reviews))\n",
    "print (train_features.shape)\n",
    "print ((clean_train_reviews[:1]))"
   ]
  },
  {
   "cell_type": "code",
   "execution_count": 146,
   "metadata": {
    "collapsed": false
   },
   "outputs": [
    {
     "name": "stdout",
     "output_type": "stream",
     "text": [
      "  (0, 67052)\t1.0\n",
      "  (1, 171611)\t0.25075521967\n",
      "  (1, 159634)\t0.290786351229\n",
      "  (1, 159318)\t0.171728190513\n",
      "  (1, 150559)\t0.288252641358\n",
      "  (1, 150424)\t0.399734381656\n",
      "  (1, 150422)\t0.252831869103\n",
      "  (1, 149314)\t0.198662443857\n",
      "  (1, 144502)\t0.359618425053\n",
      "  (1, 144497)\t0.208124569948\n",
      "  (1, 82254)\t0.170054070689\n",
      "  (1, 30283)\t0.224241799545\n",
      "  (1, 14840)\t0.396354982768\n",
      "  (1, 14806)\t0.207335906396\n",
      "  (1, 12023)\t0.157725059037\n",
      "  (2, 181806)\t0.357725233214\n",
      "  (2, 181798)\t0.192830858898\n",
      "  (2, 171340)\t0.134569369877\n",
      "  (2, 152011)\t0.146144129116\n",
      "  (2, 141971)\t0.279441111573\n",
      "  (2, 82367)\t0.318907128456\n",
      "  (2, 82366)\t0.27772416369\n",
      "  (2, 82254)\t0.153480174947\n",
      "  (2, 67352)\t0.345734616473\n",
      "  (2, 67315)\t0.193254272562\n",
      "  :\t:\n",
      "  (289642, 10771)\t0.0868377787781\n",
      "  (289642, 10770)\t0.0462562975226\n",
      "  (289642, 9971)\t0.0733859938086\n",
      "  (289642, 7919)\t0.0936624626199\n",
      "  (289642, 7825)\t0.0895832589792\n",
      "  (289642, 7738)\t0.0755755162068\n",
      "  (289642, 7736)\t0.0702026576552\n",
      "  (289642, 7405)\t0.0795647871239\n",
      "  (289642, 3911)\t0.0868377787781\n",
      "  (289642, 3908)\t0.0750460889653\n",
      "  (289642, 3475)\t0.0334917965918\n",
      "  (289642, 3030)\t0.0958941084459\n",
      "  (289642, 3010)\t0.0433415665621\n",
      "  (289642, 1557)\t0.0871362622531\n",
      "  (289642, 1343)\t0.0425215712138\n",
      "  (289642, 135)\t0.0593649787008\n",
      "  (289642, 51)\t0.0400601699014\n",
      "  (289643, 194901)\t0.243278006196\n",
      "  (289643, 194021)\t0.138659935414\n",
      "  (289643, 70169)\t0.147696509511\n",
      "  (289643, 67198)\t0.397055370062\n",
      "  (289643, 67052)\t0.148516031786\n",
      "  (289643, 22537)\t0.646608516001\n",
      "  (289643, 22536)\t0.512099581161\n",
      "  (289643, 21713)\t0.199289845469\n"
     ]
    }
   ],
   "source": [
    "print (train_features)"
   ]
  },
  {
   "cell_type": "markdown",
   "metadata": {},
   "source": [
    "###Select Best Features"
   ]
  },
  {
   "cell_type": "code",
   "execution_count": 147,
   "metadata": {
    "collapsed": true
   },
   "outputs": [],
   "source": [
    "fselect= SelectKBest(chi2, k=10000)\n",
    "train_features = fselect.fit_transform(train_features, train['Rating'])\n",
    "test_features= fselect.transform(test_features)"
   ]
  },
  {
   "cell_type": "code",
   "execution_count": 148,
   "metadata": {
    "collapsed": false
   },
   "outputs": [
    {
     "name": "stdout",
     "output_type": "stream",
     "text": [
      "(289644, 10000)\n"
     ]
    }
   ],
   "source": [
    "print (train_features.shape)"
   ]
  },
  {
   "cell_type": "code",
   "execution_count": 149,
   "metadata": {
    "collapsed": false
   },
   "outputs": [],
   "source": [
    "model1 = MultinomialNB(alpha=0.001)\n",
    "model1.fit( train_features, train[\"Rating\"] )\n",
    "\n",
    "model2 = SGDClassifier(loss='modified_huber', n_iter=5, random_state=0, shuffle=True)\n",
    "model2.fit( train_features, train[\"Rating\"] )\n",
    "\n",
    "model3 = RandomForestClassifier()\n",
    "model3.fit( train_features, train[\"Rating\"] )\n",
    "\n",
    "model4 = GradientBoostingClassifier()\n",
    "model4.fit( train_features, train[\"Rating\"] )\n",
    "\n",
    "pred_1 = model1.predict( test_features.toarray() ) # to array is required to covert sparse matrix into an array\n",
    "pred_2 = model2.predict( test_features.toarray() )\n",
    "pred_3 = model3.predict( test_features.toarray() )\n",
    "pred_4 = model4.predict( test_features.toarray() )"
   ]
  },
  {
   "cell_type": "code",
   "execution_count": 150,
   "metadata": {
    "collapsed": false
   },
   "outputs": [
    {
     "name": "stdout",
     "output_type": "stream",
     "text": [
      "             precision    recall  f1-score   support\n",
      "\n",
      "          1       0.70      0.77      0.73     21569\n",
      "          2       0.84      0.17      0.28      7366\n",
      "          3       0.73      0.16      0.27      9551\n",
      "          4       0.48      0.15      0.23     18413\n",
      "          5       0.72      0.97      0.82     67235\n",
      "\n",
      "avg / total       0.69      0.70      0.64    124134\n",
      "\n"
     ]
    }
   ],
   "source": [
    "print(classification_report(test['Rating'], pred_1, target_names=['1','2','3','4','5']))"
   ]
  },
  {
   "cell_type": "code",
   "execution_count": 151,
   "metadata": {
    "collapsed": false
   },
   "outputs": [
    {
     "name": "stdout",
     "output_type": "stream",
     "text": [
      "             precision    recall  f1-score   support\n",
      "\n",
      "          1       0.66      0.84      0.74     21569\n",
      "          2       0.82      0.09      0.16      7366\n",
      "          3       0.69      0.13      0.22      9551\n",
      "          4       0.48      0.15      0.22     18413\n",
      "          5       0.73      0.97      0.84     67235\n",
      "\n",
      "avg / total       0.69      0.71      0.64    124134\n",
      "\n"
     ]
    }
   ],
   "source": [
    "print(classification_report(test['Rating'], pred_2, target_names=['1','2','3','4','5']))"
   ]
  },
  {
   "cell_type": "code",
   "execution_count": 152,
   "metadata": {
    "collapsed": false
   },
   "outputs": [
    {
     "name": "stdout",
     "output_type": "stream",
     "text": [
      "             precision    recall  f1-score   support\n",
      "\n",
      "          1       0.83      0.91      0.86     21569\n",
      "          2       0.90      0.65      0.75      7366\n",
      "          3       0.88      0.63      0.73      9551\n",
      "          4       0.83      0.59      0.69     18413\n",
      "          5       0.86      0.96      0.91     67235\n",
      "\n",
      "avg / total       0.85      0.85      0.85    124134\n",
      "\n"
     ]
    }
   ],
   "source": [
    "print(classification_report(test['Rating'], pred_3, target_names=['1','2','3','4','5']))"
   ]
  },
  {
   "cell_type": "code",
   "execution_count": 153,
   "metadata": {
    "collapsed": false
   },
   "outputs": [
    {
     "name": "stdout",
     "output_type": "stream",
     "text": [
      "             precision    recall  f1-score   support\n",
      "\n",
      "          1       0.68      0.59      0.64     21569\n",
      "          2       0.68      0.05      0.10      7366\n",
      "          3       0.60      0.08      0.14      9551\n",
      "          4       0.48      0.11      0.18     18413\n",
      "          5       0.66      0.97      0.79     67235\n",
      "\n",
      "avg / total       0.63      0.66      0.58    124134\n",
      "\n"
     ]
    }
   ],
   "source": [
    "print(classification_report(test['Rating'], pred_4, target_names=['1','2','3','4','5']))"
   ]
  },
  {
   "cell_type": "code",
   "execution_count": 156,
   "metadata": {
    "collapsed": false
   },
   "outputs": [
    {
     "data": {
      "text/plain": [
       "array([[19521,   229,   232,   246,  1341],\n",
       "       [ 1428,  4794,   154,   223,   767],\n",
       "       [ 1081,   142,  6019,   457,  1852],\n",
       "       [  694,    96,   241, 10872,  6510],\n",
       "       [  867,    84,   210,  1242, 64832]])"
      ]
     },
     "execution_count": 156,
     "metadata": {},
     "output_type": "execute_result"
    }
   ],
   "source": [
    "# Compute confusion matrix\n",
    "cnf_matrix = confusion_matrix(test['Rating'], pred_3)\n",
    "cnf_matrix"
   ]
  },
  {
   "cell_type": "code",
   "execution_count": 155,
   "metadata": {
    "collapsed": false
   },
   "outputs": [
    {
     "name": "stdout",
     "output_type": "stream",
     "text": [
      "prediction 1 accuracy:  0.702813089081\n",
      "prediction 2 accuracy:  0.706502650362\n",
      "prediction 3 accuracy:  0.854222050365\n",
      "prediction 4 accuracy:  0.656661349832\n"
     ]
    }
   ],
   "source": [
    "print('prediction 1 accuracy: ', accuracy_score(test['Rating'], pred_1))\n",
    "print('prediction 2 accuracy: ', accuracy_score(test['Rating'], pred_2))\n",
    "print('prediction 3 accuracy: ', accuracy_score(test['Rating'], pred_3))\n",
    "print('prediction 4 accuracy: ', accuracy_score(test['Rating'], pred_4))"
   ]
  },
  {
   "cell_type": "markdown",
   "metadata": {},
   "source": [
    "## Conclusion: By using the complete data (400K+ data) instead of just 20K, the accuracy has increased to 85% from 68%"
   ]
  },
  {
   "cell_type": "code",
   "execution_count": null,
   "metadata": {
    "collapsed": true
   },
   "outputs": [],
   "source": []
  }
 ],
 "metadata": {
  "kernelspec": {
   "display_name": "Python 3",
   "language": "python",
   "name": "python3"
  },
  "language_info": {
   "codemirror_mode": {
    "name": "ipython",
    "version": 3
   },
   "file_extension": ".py",
   "mimetype": "text/x-python",
   "name": "python",
   "nbconvert_exporter": "python",
   "pygments_lexer": "ipython3",
   "version": "3.6.0"
  }
 },
 "nbformat": 4,
 "nbformat_minor": 2
}
