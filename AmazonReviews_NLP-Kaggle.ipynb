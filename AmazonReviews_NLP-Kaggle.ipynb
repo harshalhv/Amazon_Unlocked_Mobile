{
 "cells": [
  {
   "cell_type": "code",
   "execution_count": 2,
   "metadata": {
    "collapsed": false
   },
   "outputs": [
    {
     "name": "stderr",
     "output_type": "stream",
     "text": [
      "/Users/rajegupt/anaconda3/lib/python3.6/site-packages/nltk/twitter/__init__.py:20: UserWarning: The twython library has not been installed. Some functionality from the twitter package will not be available.\n",
      "  warnings.warn(\"The twython library has not been installed. \"\n"
     ]
    }
   ],
   "source": [
    "import pandas as pd\n",
    "import numpy as np\n",
    "import matplotlib.pyplot as plt\n",
    "from nltk.sentiment.vader import SentimentIntensityAnalyzer\n",
    "%matplotlib inline"
   ]
  },
  {
   "cell_type": "code",
   "execution_count": 39,
   "metadata": {
    "collapsed": true
   },
   "outputs": [],
   "source": [
    "import seaborn as sns\n",
    "import re\n",
    "import random\n",
    "plt.style.use('ggplot')"
   ]
  },
  {
   "cell_type": "code",
   "execution_count": 28,
   "metadata": {
    "collapsed": false
   },
   "outputs": [],
   "source": [
    "from bs4 import BeautifulSoup\n",
    "from nltk.corpus import stopwords\n",
    "from nltk.stem.porter import PorterStemmer\n",
    "from nltk.stem.snowball import SnowballStemmer\n",
    "english_stemmer=SnowballStemmer('english')"
   ]
  },
  {
   "cell_type": "code",
   "execution_count": 98,
   "metadata": {
    "collapsed": true
   },
   "outputs": [],
   "source": [
    "from sklearn.model_selection import train_test_split\n",
    "from sklearn.feature_extraction.text import TfidfVectorizer\n",
    "from sklearn.feature_selection.univariate_selection import SelectKBest, chi2, f_classif\n",
    "from sklearn.linear_model import SGDClassifier, SGDRegressor\n",
    "from sklearn.ensemble import RandomForestClassifier, GradientBoostingClassifier\n",
    "from sklearn.naive_bayes import MultinomialNB\n",
    "from sklearn.metrics import accuracy_score, classification_report, confusion_matrix"
   ]
  },
  {
   "cell_type": "code",
   "execution_count": 40,
   "metadata": {
    "collapsed": false
   },
   "outputs": [],
   "source": [
    "# Pick randomly 20000 reviews\n",
    "\n",
    "n = 413000  \n",
    "s = 20000 \n",
    "skip = sorted(random.sample(range(1,n),n-s))\n",
    "\n",
    "df = pd.read_csv(\"Amazon_Unlocked_Mobile.csv\", skiprows=skip)"
   ]
  },
  {
   "cell_type": "code",
   "execution_count": 41,
   "metadata": {
    "collapsed": false
   },
   "outputs": [
    {
     "data": {
      "text/plain": [
       "(20840, 6)"
      ]
     },
     "execution_count": 41,
     "metadata": {},
     "output_type": "execute_result"
    }
   ],
   "source": [
    "df.shape"
   ]
  },
  {
   "cell_type": "code",
   "execution_count": 42,
   "metadata": {
    "collapsed": false
   },
   "outputs": [
    {
     "data": {
      "text/html": [
       "<div>\n",
       "<table border=\"1\" class=\"dataframe\">\n",
       "  <thead>\n",
       "    <tr style=\"text-align: right;\">\n",
       "      <th></th>\n",
       "      <th>Product Name</th>\n",
       "      <th>Brand Name</th>\n",
       "      <th>Price</th>\n",
       "      <th>Rating</th>\n",
       "      <th>Reviews</th>\n",
       "      <th>Review Votes</th>\n",
       "    </tr>\n",
       "  </thead>\n",
       "  <tbody>\n",
       "    <tr>\n",
       "      <th>0</th>\n",
       "      <td>\"Nokia Asha 302 Unlocked GSM Phone with 3.2MP ...</td>\n",
       "      <td>Nokia</td>\n",
       "      <td>299.00</td>\n",
       "      <td>2</td>\n",
       "      <td>This phone is trapped in 2001, if you want a s...</td>\n",
       "      <td>0.0</td>\n",
       "    </tr>\n",
       "    <tr>\n",
       "      <th>1</th>\n",
       "      <td>\"Nokia Asha 302 Unlocked GSM Phone with 3.2MP ...</td>\n",
       "      <td>Nokia</td>\n",
       "      <td>299.00</td>\n",
       "      <td>1</td>\n",
       "      <td>Incredible! This phone does not have Splaniish...</td>\n",
       "      <td>0.0</td>\n",
       "    </tr>\n",
       "    <tr>\n",
       "      <th>2</th>\n",
       "      <td>\"Nokia Asha 302 Unlocked GSM Phone with 3.2MP ...</td>\n",
       "      <td>Nokia</td>\n",
       "      <td>299.00</td>\n",
       "      <td>1</td>\n",
       "      <td>The battery died in less than 24/hours....</td>\n",
       "      <td>0.0</td>\n",
       "    </tr>\n",
       "    <tr>\n",
       "      <th>3</th>\n",
       "      <td>(LANDVO) 5.0\" Capacitive Touch MTK6582 Quad Co...</td>\n",
       "      <td>HTM</td>\n",
       "      <td>69.99</td>\n",
       "      <td>5</td>\n",
       "      <td>very responsible seller and excellent product</td>\n",
       "      <td>0.0</td>\n",
       "    </tr>\n",
       "    <tr>\n",
       "      <th>4</th>\n",
       "      <td>[XMAS DEAL] Jethro [SC118] Simple Unlocked Qua...</td>\n",
       "      <td>Jethro</td>\n",
       "      <td>59.99</td>\n",
       "      <td>5</td>\n",
       "      <td>Great phone!</td>\n",
       "      <td>0.0</td>\n",
       "    </tr>\n",
       "  </tbody>\n",
       "</table>\n",
       "</div>"
      ],
      "text/plain": [
       "                                        Product Name Brand Name   Price  \\\n",
       "0  \"Nokia Asha 302 Unlocked GSM Phone with 3.2MP ...      Nokia  299.00   \n",
       "1  \"Nokia Asha 302 Unlocked GSM Phone with 3.2MP ...      Nokia  299.00   \n",
       "2  \"Nokia Asha 302 Unlocked GSM Phone with 3.2MP ...      Nokia  299.00   \n",
       "3  (LANDVO) 5.0\" Capacitive Touch MTK6582 Quad Co...        HTM   69.99   \n",
       "4  [XMAS DEAL] Jethro [SC118] Simple Unlocked Qua...     Jethro   59.99   \n",
       "\n",
       "   Rating                                            Reviews  Review Votes  \n",
       "0       2  This phone is trapped in 2001, if you want a s...           0.0  \n",
       "1       1  Incredible! This phone does not have Splaniish...           0.0  \n",
       "2       1         The battery died in less than 24/hours....           0.0  \n",
       "3       5      very responsible seller and excellent product           0.0  \n",
       "4       5                                       Great phone!           0.0  "
      ]
     },
     "execution_count": 42,
     "metadata": {},
     "output_type": "execute_result"
    }
   ],
   "source": [
    "df.head()"
   ]
  },
  {
   "cell_type": "code",
   "execution_count": 43,
   "metadata": {
    "collapsed": false
   },
   "outputs": [],
   "source": [
    "data= df[['Reviews','Rating']]"
   ]
  },
  {
   "cell_type": "code",
   "execution_count": 44,
   "metadata": {
    "collapsed": false
   },
   "outputs": [
    {
     "data": {
      "text/plain": [
       "Reviews     True\n",
       "Rating     False\n",
       "dtype: bool"
      ]
     },
     "execution_count": 44,
     "metadata": {},
     "output_type": "execute_result"
    }
   ],
   "source": [
    "data.isnull().any()"
   ]
  },
  {
   "cell_type": "code",
   "execution_count": 45,
   "metadata": {
    "collapsed": false
   },
   "outputs": [
    {
     "data": {
      "text/plain": [
       "2"
      ]
     },
     "execution_count": 45,
     "metadata": {},
     "output_type": "execute_result"
    }
   ],
   "source": [
    "data.isnull().values.sum()"
   ]
  },
  {
   "cell_type": "code",
   "execution_count": 46,
   "metadata": {
    "collapsed": true
   },
   "outputs": [],
   "source": [
    "data = data[data['Reviews'].isnull()==False]"
   ]
  },
  {
   "cell_type": "code",
   "execution_count": 47,
   "metadata": {
    "collapsed": false
   },
   "outputs": [
    {
     "data": {
      "text/plain": [
       "(20838, 2)"
      ]
     },
     "execution_count": 47,
     "metadata": {},
     "output_type": "execute_result"
    }
   ],
   "source": [
    "#df=df.dropna()\n",
    "data.shape"
   ]
  },
  {
   "cell_type": "code",
   "execution_count": 48,
   "metadata": {
    "collapsed": false
   },
   "outputs": [
    {
     "data": {
      "text/plain": [
       "<matplotlib.axes._subplots.AxesSubplot at 0x11d3f62b0>"
      ]
     },
     "execution_count": 48,
     "metadata": {},
     "output_type": "execute_result"
    },
    {
     "data": {
      "image/png": "[encoded data removed]",
      "text/plain": [
       "<matplotlib.figure.Figure at 0x1166620f0>"
      ]
     },
     "metadata": {},
     "output_type": "display_data"
    }
   ],
   "source": [
    "sns.countplot(data['Rating'])"
   ]
  },
  {
   "cell_type": "code",
   "execution_count": 49,
   "metadata": {
    "collapsed": false
   },
   "outputs": [
    {
     "name": "stdout",
     "output_type": "stream",
     "text": [
      "Reviews    11241\n",
      "Rating     11241\n",
      "dtype: int64\n",
      "Reviews    9597\n",
      "Rating     9597\n",
      "dtype: int64\n"
     ]
    }
   ],
   "source": [
    "print (data[data['Rating']==5].count())\n",
    "print (data[data['Rating']<5].count())"
   ]
  },
  {
   "cell_type": "code",
   "execution_count": 54,
   "metadata": {
    "collapsed": false
   },
   "outputs": [
    {
     "data": {
      "text/plain": [
       "\"This phone is trapped in 2001, if you want a simple phone get an old school flip phone. If you want something also for work get a blackberry or somthing new. This isn't even in the middle of those two, it's in another dimension. Nothing but frustration with this phone.\""
      ]
     },
     "execution_count": 54,
     "metadata": {},
     "output_type": "execute_result"
    }
   ],
   "source": [
    "data.Reviews[0]"
   ]
  },
  {
   "cell_type": "code",
   "execution_count": 53,
   "metadata": {
    "collapsed": false
   },
   "outputs": [
    {
     "name": "stdout",
     "output_type": "stream",
     "text": [
      "This phone is trapped in 2001, if you want a simple phone get an old school flip phone. If you want something also for work get a blackberry or somthing new. This isn't even in the middle of those two, it's in another dimension. Nothing but frustration with this phone.\n"
     ]
    },
    {
     "name": "stderr",
     "output_type": "stream",
     "text": [
      "/Users/rajegupt/anaconda3/lib/python3.6/site-packages/bs4/__init__.py:181: UserWarning: No parser was explicitly specified, so I'm using the best available HTML parser for this system (\"lxml\"). This usually isn't a problem, but if you run this code on another system, or in a different virtual environment, it may use a different parser and behave differently.\n",
      "\n",
      "The code that caused this warning is on line 193 of the file /Users/rajegupt/anaconda3/lib/python3.6/runpy.py. To get rid of this warning, change code that looks like this:\n",
      "\n",
      " BeautifulSoup([your markup])\n",
      "\n",
      "to this:\n",
      "\n",
      " BeautifulSoup([your markup], \"lxml\")\n",
      "\n",
      "  markup_type=markup_type))\n"
     ]
    }
   ],
   "source": [
    "# Remove HTML\n",
    "review_text= BeautifulSoup(data.Reviews[0]).get_text()\n",
    "print (review_text)"
   ]
  },
  {
   "cell_type": "code",
   "execution_count": 58,
   "metadata": {
    "collapsed": false
   },
   "outputs": [
    {
     "name": "stdout",
     "output_type": "stream",
     "text": [
      "This phone is trapped in       if you want a simple phone get an old school flip phone  If you want something also for work get a blackberry or somthing new  This isn t even in the middle of those two  it s in another dimension  Nothing but frustration with this phone \n"
     ]
    }
   ],
   "source": [
    "# 2. Remove non-letters\n",
    "review_text = re.sub(\"[^a-zA-Z]\",\" \", review_text)\n",
    "print (review_text)"
   ]
  },
  {
   "cell_type": "code",
   "execution_count": 59,
   "metadata": {
    "collapsed": false
   },
   "outputs": [
    {
     "name": "stdout",
     "output_type": "stream",
     "text": [
      "['this', 'phone', 'is', 'trapped', 'in', 'if', 'you', 'want', 'a', 'simple', 'phone', 'get', 'an', 'old', 'school', 'flip', 'phone', 'if', 'you', 'want', 'something', 'also', 'for', 'work', 'get', 'a', 'blackberry', 'or', 'somthing', 'new', 'this', 'isn', 't', 'even', 'in', 'the', 'middle', 'of', 'those', 'two', 'it', 's', 'in', 'another', 'dimension', 'nothing', 'but', 'frustration', 'with', 'this', 'phone']\n"
     ]
    }
   ],
   "source": [
    "# 3. Convert words to lower case and split them\n",
    "words = review_text.lower().split()\n",
    "print (words)"
   ]
  },
  {
   "cell_type": "code",
   "execution_count": 62,
   "metadata": {
    "collapsed": false
   },
   "outputs": [
    {
     "name": "stdout",
     "output_type": "stream",
     "text": [
      "{'didn', 'i', 'while', 's', 'your', 'd', 'weren', 'yourself', 'very', 'myself', 'me', 'whom', 'o', 'theirs', 'when', 'with', 'that', 'down', 'themselves', 'not', 're', 'who', 'up', 'other', 'its', 'so', 'y', 'too', 'just', 'further', 'do', 'own', 'the', 'aren', 'or', 'doesn', 'wasn', 'herself', 'itself', 'hadn', 'should', 'of', 'both', 'hers', 'off', 'ourselves', 'him', 'through', 'in', 'ain', 'having', 'to', 'where', 'only', 'by', 'himself', 'no', 'below', 'mightn', 'against', 'under', 'about', 'why', 'which', 'this', 'on', 'them', 'same', 'are', 'into', 'does', 've', 'won', 'm', 'were', 'most', 'from', 'and', 'those', 'nor', 'they', 'because', 'more', 'll', 'some', 'once', 'yourselves', 'such', 'it', 'wouldn', 'being', 'couldn', 'been', 't', 'we', 'after', 'again', 'am', 'she', 'shan', 'my', 'isn', 'over', 'as', 'don', 'doing', 'had', 'than', 'how', 'before', 'yours', 'her', 'but', 'for', 'an', 'was', 'hasn', 'few', 'each', 'our', 'can', 'there', 'during', 'out', 'these', 'be', 'a', 'his', 'here', 'is', 'shouldn', 'between', 'he', 'now', 'ma', 'then', 'has', 'will', 'have', 'did', 'what', 'ours', 'at', 'mustn', 'their', 'above', 'haven', 'any', 'if', 'all', 'needn', 'until', 'you'}\n",
      " \n",
      "words after removing stopwords\n",
      "\n",
      "['phone', 'trapped', 'want', 'simple', 'phone', 'get', 'old', 'school', 'flip', 'phone', 'want', 'something', 'also', 'work', 'get', 'blackberry', 'somthing', 'new', 'even', 'middle', 'two', 'another', 'dimension', 'nothing', 'frustration', 'phone']\n"
     ]
    }
   ],
   "source": [
    "# 4. Remove Stopwords\n",
    "stops = set(stopwords.words(\"english\"))\n",
    "words = [w for w in words if not w in stops]\n",
    "\n",
    "print (stops)\n",
    "print (\" \\nwords after removing stopwords\\n\")\n",
    "print (words)"
   ]
  },
  {
   "cell_type": "code",
   "execution_count": 64,
   "metadata": {
    "collapsed": false
   },
   "outputs": [
    {
     "name": "stdout",
     "output_type": "stream",
     "text": [
      "['phone', 'trap', 'want', 'simpl', 'phone', 'get', 'old', 'school', 'flip', 'phone', 'want', 'someth', 'also', 'work', 'get', 'blackberri', 'somth', 'new', 'even', 'middl', 'two', 'anoth', 'dimens', 'noth', 'frustrat', 'phone']\n"
     ]
    }
   ],
   "source": [
    "# 5. Stem the words\n",
    "\n",
    "stemmer = english_stemmer\n",
    "b=[]\n",
    "for word in words:\n",
    "    b.append(stemmer.stem(word))\n",
    "print (b)"
   ]
  },
  {
   "cell_type": "code",
   "execution_count": 55,
   "metadata": {
    "collapsed": true
   },
   "outputs": [],
   "source": [
    "# Write all the steps in one function now\n",
    "\n",
    "def review_to_wordlist( review, remove_stopwords=True):\n",
    "    # Function to convert a document to a sequence of words,\n",
    "    # optionally removing stop words.  Returns a list of words.\n",
    "    #\n",
    "    # 1. Remove HTML\n",
    "    review_text = BeautifulSoup(review).get_text()\n",
    "\n",
    "    #\n",
    "    # 2. Remove non-letters\n",
    "    review_text = re.sub(\"[^a-zA-Z]\",\" \", review_text)\n",
    "    #\n",
    "    # 3. Convert words to lower case and split them\n",
    "    words = review_text.lower().split()\n",
    "    #\n",
    "    # 4. Optionally remove stop words (True by default)\n",
    "    if remove_stopwords:\n",
    "        stops = set(stopwords.words(\"english\"))\n",
    "        words = [w for w in words if not w in stops]\n",
    "\n",
    "    b=[]\n",
    "    stemmer = english_stemmer #PorterStemmer()\n",
    "    for word in words:\n",
    "        b.append(stemmer.stem(word))\n",
    "\n",
    "    # 5. Return a list of words\n",
    "    return(b)"
   ]
  },
  {
   "cell_type": "code",
   "execution_count": 56,
   "metadata": {
    "collapsed": true
   },
   "outputs": [],
   "source": [
    "train, test = train_test_split(data, test_size = 0.3)"
   ]
  },
  {
   "cell_type": "code",
   "execution_count": 57,
   "metadata": {
    "collapsed": false
   },
   "outputs": [
    {
     "name": "stderr",
     "output_type": "stream",
     "text": [
      "/Users/rajegupt/anaconda3/lib/python3.6/site-packages/bs4/__init__.py:181: UserWarning: No parser was explicitly specified, so I'm using the best available HTML parser for this system (\"lxml\"). This usually isn't a problem, but if you run this code on another system, or in a different virtual environment, it may use a different parser and behave differently.\n",
      "\n",
      "The code that caused this warning is on line 193 of the file /Users/rajegupt/anaconda3/lib/python3.6/runpy.py. To get rid of this warning, change code that looks like this:\n",
      "\n",
      " BeautifulSoup([your markup])\n",
      "\n",
      "to this:\n",
      "\n",
      " BeautifulSoup([your markup], \"lxml\")\n",
      "\n",
      "  markup_type=markup_type))\n",
      "/Users/rajegupt/anaconda3/lib/python3.6/site-packages/bs4/__init__.py:282: UserWarning: \"https://www.amazon.com/dp/B00K15KRV6/ref=cm_cr_ryp_prd_ttl_sol_22\" looks like a URL. Beautiful Soup is not an HTTP client. You should probably use an HTTP client like requests to get the document behind the URL, and feed that document to Beautiful Soup.\n",
      "  ' that document to Beautiful Soup.' % decoded_markup\n",
      "/Users/rajegupt/anaconda3/lib/python3.6/site-packages/bs4/__init__.py:282: UserWarning: \"https://www.amazon.com/dp/B01CJU9BBM/ref=cm_cr_ryp_prd_ttl_sol_0\" looks like a URL. Beautiful Soup is not an HTTP client. You should probably use an HTTP client like requests to get the document behind the URL, and feed that document to Beautiful Soup.\n",
      "  ' that document to Beautiful Soup.' % decoded_markup\n"
     ]
    }
   ],
   "source": [
    "# Clean all the reviews\n",
    "\n",
    "clean_train_reviews = []\n",
    "for review in train['Reviews']:\n",
    "    clean_train_reviews.append( \" \".join(review_to_wordlist(review)))\n",
    "    \n",
    "clean_test_reviews = []\n",
    "for review in test['Reviews']:\n",
    "    clean_test_reviews.append( \" \".join(review_to_wordlist(review)))"
   ]
  },
  {
   "cell_type": "code",
   "execution_count": 65,
   "metadata": {
    "collapsed": false
   },
   "outputs": [
    {
     "data": {
      "text/plain": [
       "['good cellphon',\n",
       " 'great phone great price tough economi wise save money spend phone brand logo blu give high perform android smartphon give freedom use compani want sinc unlock',\n",
       " 'phone year one final broke drop open split right half got anoth one year good lifespan phone',\n",
       " 'love phone sent back exchang one problem shut would sim soft ware problem second phone far gone day past first phone grade first time two phone problem shut',\n",
       " 'phone abl updat app wi fi mobil network freez regular']"
      ]
     },
     "execution_count": 65,
     "metadata": {},
     "output_type": "execute_result"
    }
   ],
   "source": [
    "clean_train_reviews[0:5]"
   ]
  },
  {
   "cell_type": "markdown",
   "metadata": {
    "collapsed": true
   },
   "source": [
    "## TFidf Transformation"
   ]
  },
  {
   "cell_type": "code",
   "execution_count": 85,
   "metadata": {
    "collapsed": false
   },
   "outputs": [],
   "source": [
    "# use tfidf transformation with ngrams between 1 and 4.\n",
    "vectorizer = TfidfVectorizer(min_df=2, max_df=0.95, max_features=200000,\n",
    "                             ngram_range=(1,4), sublinear_tf=True)\n",
    "\n",
    "vectorizer= vectorizer.fit(clean_train_reviews)\n",
    "train_features= vectorizer.transform(clean_train_reviews)\n",
    "test_features= vectorizer.transform(clean_test_reviews)"
   ]
  },
  {
   "cell_type": "code",
   "execution_count": 94,
   "metadata": {
    "collapsed": false
   },
   "outputs": [
    {
     "name": "stdout",
     "output_type": "stream",
     "text": [
      "14586\n",
      "(14586, 71459)\n",
      "['good cellphon']\n"
     ]
    }
   ],
   "source": [
    "print (len(clean_train_reviews))\n",
    "print (train_features.shape)\n",
    "print ((clean_train_reviews[:1]))"
   ]
  },
  {
   "cell_type": "code",
   "execution_count": 77,
   "metadata": {
    "collapsed": false
   },
   "outputs": [
    {
     "name": "stdout",
     "output_type": "stream",
     "text": [
      "  (0, 23968)\t0.803306941049\n",
      "  (0, 23886)\t0.25097393812\n",
      "  (0, 9945)\t0.540101880063\n",
      "  (1, 69020)\t0.170647151666\n",
      "  (1, 67112)\t0.0932975165442\n",
      "  (1, 65292)\t0.229222745161\n",
      "  (1, 65110)\t0.0687908721525\n",
      "  (1, 64377)\t0.0979619637985\n",
      "  (1, 63143)\t0.175911116035\n",
      "  (1, 58434)\t0.201854988086\n",
      "  (1, 58407)\t0.141560698955\n",
      "  (1, 57236)\t0.23638925254\n",
      "  (1, 57189)\t0.118697913566\n",
      "  (1, 56440)\t0.209021495465\n",
      "  (1, 56317)\t0.112298541118\n",
      "  (1, 52897)\t0.23638925254\n",
      "  (1, 52893)\t0.17380468952\n",
      "  (1, 52869)\t0.13538230095\n",
      "  (1, 47260)\t0.085978606046\n",
      "  (1, 43491)\t0.165810491187\n",
      "  (1, 43457)\t0.118771724601\n",
      "  (1, 42515)\t0.180747776514\n",
      "  (1, 42135)\t0.0698279864809\n",
      "  (1, 41922)\t0.122427684808\n",
      "  (1, 36232)\t0.215282040968\n",
      "  :\t:\n",
      "  (14585, 20898)\t0.102449791407\n",
      "  (14585, 20822)\t0.0917847183203\n",
      "  (14585, 19237)\t0.0884641512085\n",
      "  (14585, 19213)\t0.0728304389465\n",
      "  (14585, 18639)\t0.107051397401\n",
      "  (14585, 17313)\t0.0867000195775\n",
      "  (14585, 15741)\t0.0770789967739\n",
      "  (14585, 15083)\t0.0867000195775\n",
      "  (14585, 13032)\t0.0945127501657\n",
      "  (14585, 13019)\t0.0705600629092\n",
      "  (14585, 12590)\t0.0932923727496\n",
      "  (14585, 12416)\t0.0658201167772\n",
      "  (14585, 11135)\t0.0751732629032\n",
      "  (14585, 8353)\t0.0535601471564\n",
      "  (14585, 8272)\t0.116208816058\n",
      "  (14585, 8023)\t0.0511610357522\n",
      "  (14585, 6682)\t0.112408143919\n",
      "  (14585, 6587)\t0.0472765576794\n",
      "  (14585, 5866)\t0.105993924175\n",
      "  (14585, 5786)\t0.059708229735\n",
      "  (14585, 5317)\t0.109460113576\n",
      "  (14585, 3750)\t0.072185854402\n",
      "  (14585, 2837)\t0.104103367058\n",
      "  (14585, 2626)\t0.0515510673988\n",
      "  (14585, 1006)\t0.0879356262316\n"
     ]
    }
   ],
   "source": [
    "print (train_features)"
   ]
  },
  {
   "cell_type": "markdown",
   "metadata": {},
   "source": [
    "###Select Best Features"
   ]
  },
  {
   "cell_type": "code",
   "execution_count": 95,
   "metadata": {
    "collapsed": true
   },
   "outputs": [],
   "source": [
    "fselect= SelectKBest(chi2, k=10000)\n",
    "train_features = fselect.fit_transform(train_features, train['Rating'])\n",
    "test_features= fselect.transform(test_features)"
   ]
  },
  {
   "cell_type": "code",
   "execution_count": 97,
   "metadata": {
    "collapsed": false
   },
   "outputs": [
    {
     "name": "stdout",
     "output_type": "stream",
     "text": [
      "(14586, 10000)\n"
     ]
    }
   ],
   "source": [
    "print (train_features.shape)"
   ]
  },
  {
   "cell_type": "code",
   "execution_count": 105,
   "metadata": {
    "collapsed": false
   },
   "outputs": [],
   "source": [
    "model1 = MultinomialNB(alpha=0.001)\n",
    "model1.fit( train_features, train[\"Rating\"] )\n",
    "\n",
    "model2 = SGDClassifier(loss='modified_huber', n_iter=5, random_state=0, shuffle=True)\n",
    "model2.fit( train_features, train[\"Rating\"] )\n",
    "\n",
    "model3 = RandomForestClassifier()\n",
    "model3.fit( train_features, train[\"Rating\"] )\n",
    "\n",
    "model4 = GradientBoostingClassifier()\n",
    "model4.fit( train_features, train[\"Rating\"] )\n",
    "\n",
    "pred_1 = model1.predict( test_features.toarray() ) # to array is required to covert sparse matrix into an array\n",
    "pred_2 = model2.predict( test_features.toarray() )\n",
    "pred_3 = model3.predict( test_features.toarray() )\n",
    "pred_4 = model4.predict( test_features.toarray() )"
   ]
  },
  {
   "cell_type": "code",
   "execution_count": 109,
   "metadata": {
    "collapsed": false
   },
   "outputs": [
    {
     "name": "stdout",
     "output_type": "stream",
     "text": [
      "             precision    recall  f1-score   support\n",
      "\n",
      "          1       0.64      0.70      0.67      1043\n",
      "          2       0.47      0.11      0.18       401\n",
      "          3       0.39      0.14      0.21       485\n",
      "          4       0.34      0.17      0.23       904\n",
      "          5       0.72      0.92      0.81      3419\n",
      "\n",
      "avg / total       0.61      0.66      0.61      6252\n",
      "\n"
     ]
    }
   ],
   "source": [
    "print(classification_report(test['Rating'], pred_1, target_names=['1','2','3','4','5']))"
   ]
  },
  {
   "cell_type": "code",
   "execution_count": 106,
   "metadata": {
    "collapsed": false
   },
   "outputs": [
    {
     "name": "stdout",
     "output_type": "stream",
     "text": [
      "             precision    recall  f1-score   support\n",
      "\n",
      "          1       0.63      0.79      0.70      1043\n",
      "          2       0.51      0.12      0.19       401\n",
      "          3       0.44      0.12      0.18       485\n",
      "          4       0.38      0.19      0.26       904\n",
      "          5       0.74      0.93      0.83      3419\n",
      "\n",
      "avg / total       0.63      0.68      0.63      6252\n",
      "\n"
     ]
    }
   ],
   "source": [
    "print(classification_report(test['Rating'], pred_2, target_names=['1','2','3','4','5']))"
   ]
  },
  {
   "cell_type": "code",
   "execution_count": 107,
   "metadata": {
    "collapsed": false
   },
   "outputs": [
    {
     "name": "stdout",
     "output_type": "stream",
     "text": [
      "             precision    recall  f1-score   support\n",
      "\n",
      "          1       0.56      0.71      0.63      1043\n",
      "          2       0.56      0.13      0.21       401\n",
      "          3       0.46      0.14      0.22       485\n",
      "          4       0.39      0.15      0.22       904\n",
      "          5       0.72      0.91      0.81      3419\n",
      "\n",
      "avg / total       0.62      0.66      0.61      6252\n",
      "\n"
     ]
    }
   ],
   "source": [
    "print(classification_report(test['Rating'], pred_3, target_names=['1','2','3','4','5']))"
   ]
  },
  {
   "cell_type": "code",
   "execution_count": 108,
   "metadata": {
    "collapsed": false
   },
   "outputs": [
    {
     "name": "stdout",
     "output_type": "stream",
     "text": [
      "             precision    recall  f1-score   support\n",
      "\n",
      "          1       0.64      0.60      0.62      1043\n",
      "          2       0.45      0.04      0.07       401\n",
      "          3       0.42      0.06      0.10       485\n",
      "          4       0.36      0.10      0.15       904\n",
      "          5       0.67      0.97      0.79      3419\n",
      "\n",
      "avg / total       0.59      0.65      0.57      6252\n",
      "\n"
     ]
    }
   ],
   "source": [
    "print(classification_report(test['Rating'], pred_4, target_names=['1','2','3','4','5']))"
   ]
  },
  {
   "cell_type": "code",
   "execution_count": 114,
   "metadata": {
    "collapsed": false
   },
   "outputs": [
    {
     "data": {
      "text/plain": [
       "array([[ 819,   17,   12,   34,  161],\n",
       "       [ 196,   47,   22,   32,  104],\n",
       "       [ 132,   16,   56,   76,  205],\n",
       "       [  67,    8,   29,  176,  624],\n",
       "       [  87,    5,    8,  140, 3179]])"
      ]
     },
     "execution_count": 114,
     "metadata": {},
     "output_type": "execute_result"
    }
   ],
   "source": [
    "# Compute confusion matrix\n",
    "cnf_matrix = confusion_matrix(test['Rating'], pred_2)\n",
    "cnf_matrix"
   ]
  },
  {
   "cell_type": "code",
   "execution_count": 112,
   "metadata": {
    "collapsed": false
   },
   "outputs": [
    {
     "name": "stdout",
     "output_type": "stream",
     "text": [
      "prediction 1 accuracy:  0.663467690339\n",
      "prediction 2 accuracy:  0.684101087652\n",
      "prediction 3 accuracy:  0.659628918746\n",
      "prediction 4 accuracy:  0.650671785029\n"
     ]
    }
   ],
   "source": [
    "print('prediction 1 accuracy: ', accuracy_score(test['Rating'], pred_1))\n",
    "print('prediction 2 accuracy: ', accuracy_score(test['Rating'], pred_2))\n",
    "print('prediction 3 accuracy: ', accuracy_score(test['Rating'], pred_3))\n",
    "print('prediction 4 accuracy: ', accuracy_score(test['Rating'], pred_4))"
   ]
  },
  {
   "cell_type": "code",
   "execution_count": null,
   "metadata": {
    "collapsed": true
   },
   "outputs": [],
   "source": []
  }
 ],
 "metadata": {
  "kernelspec": {
   "display_name": "Python 3",
   "language": "python",
   "name": "python3"
  },
  "language_info": {
   "codemirror_mode": {
    "name": "ipython",
    "version": 3
   },
   "file_extension": ".py",
   "mimetype": "text/x-python",
   "name": "python",
   "nbconvert_exporter": "python",
   "pygments_lexer": "ipython3",
   "version": "3.6.0"
  }
 },
 "nbformat": 4,
 "nbformat_minor": 2
}
